{
 "cells": [
  {
   "cell_type": "markdown",
   "id": "c8159e88-e662-4ace-a8ef-4d5c6495ae58",
   "metadata": {},
   "source": [
    "Introduction to Python - Day01\n"
   ]
  },
  {
   "cell_type": "code",
   "execution_count": 1,
   "id": "0a4cdf61-e395-40df-8419-9df5399f561b",
   "metadata": {},
   "outputs": [
    {
     "name": "stdout",
     "output_type": "stream",
     "text": [
      "Hello World!\n"
     ]
    }
   ],
   "source": [
    "print(\"Hello World!\")"
   ]
  },
  {
   "cell_type": "code",
   "execution_count": 4,
   "id": "3bb72b07-a2e3-4703-ae2c-7a061d0dd632",
   "metadata": {},
   "outputs": [],
   "source": [
    "scores = [70, 80, 90, 95]"
   ]
  },
  {
   "cell_type": "code",
   "execution_count": 5,
   "id": "881f107d-b4a3-44cf-af07-a7d755f2217a",
   "metadata": {},
   "outputs": [
    {
     "name": "stdout",
     "output_type": "stream",
     "text": [
      "35.0\n",
      "40.0\n",
      "45.0\n",
      "47.5\n"
     ]
    }
   ],
   "source": [
    "for i in scores:\n",
    "  print(i/2)"
   ]
  },
  {
   "cell_type": "code",
   "execution_count": 8,
   "id": "d02cbff7-9c40-4374-85f0-c2d23a4051b5",
   "metadata": {},
   "outputs": [
    {
     "data": {
      "text/plain": [
       "[35.0, 40.0, 45.0, 47.5]"
      ]
     },
     "execution_count": 8,
     "metadata": {},
     "output_type": "execute_result"
    }
   ],
   "source": [
    "[i/2 for i in scores]"
   ]
  },
  {
   "cell_type": "code",
   "execution_count": 9,
   "id": "178270b8-4a20-4313-975c-743412e447a9",
   "metadata": {},
   "outputs": [],
   "source": [
    "items = ['speaker', 'mic', 'mobile', 'pc', 'charger']"
   ]
  },
  {
   "cell_type": "code",
   "execution_count": 10,
   "id": "a73d3fb4-6edb-47a2-8b54-1ad70496c6d7",
   "metadata": {},
   "outputs": [
    {
     "name": "stdout",
     "output_type": "stream",
     "text": [
      "False\n"
     ]
    }
   ],
   "source": [
    "# are earbuds in the list?\n",
    "print(\"earbuds\" in items)"
   ]
  },
  {
   "cell_type": "code",
   "execution_count": 11,
   "id": "a2d16e01-e2d5-4676-b058-8eaa4a44b709",
   "metadata": {},
   "outputs": [
    {
     "name": "stdout",
     "output_type": "stream",
     "text": [
      "False\n"
     ]
    }
   ],
   "source": [
    "# are earbuds in the list?\n",
    "print(\"earbuds\" in items)"
   ]
  },
  {
   "cell_type": "code",
   "execution_count": 12,
   "id": "cc41a7b3-6441-41f6-a5a6-48769b6dce62",
   "metadata": {},
   "outputs": [],
   "source": [
    "del items[-1]"
   ]
  },
  {
   "cell_type": "code",
   "execution_count": 13,
   "id": "2b43803d-86dd-4fe9-83f9-33c3df9d17a3",
   "metadata": {},
   "outputs": [
    {
     "data": {
      "text/plain": [
       "['speaker', 'mic', 'mobile', 'pc']"
      ]
     },
     "execution_count": 13,
     "metadata": {},
     "output_type": "execute_result"
    }
   ],
   "source": [
    "items"
   ]
  },
  {
   "cell_type": "code",
   "execution_count": null,
   "id": "a4e16972-4dc8-44ba-933c-946a0524921a",
   "metadata": {},
   "outputs": [],
   "source": []
  }
 ],
 "metadata": {
  "kernelspec": {
   "display_name": "Python 3 (ipykernel)",
   "language": "python",
   "name": "python3"
  },
  "language_info": {
   "codemirror_mode": {
    "name": "ipython",
    "version": 3
   },
   "file_extension": ".py",
   "mimetype": "text/x-python",
   "name": "python",
   "nbconvert_exporter": "python",
   "pygments_lexer": "ipython3",
   "version": "3.12.4"
  }
 },
 "nbformat": 4,
 "nbformat_minor": 5
}
