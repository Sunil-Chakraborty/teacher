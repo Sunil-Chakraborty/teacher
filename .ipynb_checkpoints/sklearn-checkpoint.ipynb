{
 "cells": [
  {
   "cell_type": "code",
   "execution_count": null,
   "id": "66ae48a3-90c4-4324-a5d1-9748eeea0d0d",
   "metadata": {},
   "outputs": [],
   "source": [
    "from sklearn import datasets, metrics\n",
    "from sklearn.svm import SVC\n"
   ]
  },
  {
   "cell_type": "code",
   "execution_count": null,
   "id": "5db5169c-0d19-430b-bd16-992b96a36861",
   "metadata": {},
   "outputs": [],
   "source": [
    "from sklearn.datasets import load_iris\n",
    "\n",
    "# Load the Iris dataset\n",
    "iris = load_iris()\n",
    "\n",
    "# Features and target\n",
    "X = iris.data  # Feature matrix\n",
    "y = iris.target  # Target vector\n",
    "\n",
    "print(\"Feature Names:\", iris.feature_names)\n",
    "print(\"Target Names:\", iris.target_names)\n"
   ]
  },
  {
   "cell_type": "code",
   "execution_count": null,
   "id": "d8633b6e-7533-456f-8296-94dd268b2210",
   "metadata": {},
   "outputs": [],
   "source": [
    "from sklearn.datasets import load_digits\n",
    "\n",
    "# Load the Digits dataset\n",
    "digits = load_digits()\n",
    "\n",
    "# Features and target\n",
    "X = digits.data  # Flattened image data\n",
    "y = digits.target  # Labels\n",
    "\n",
    "print(\"Image Shape:\", digits.images.shape)\n"
   ]
  },
  {
   "cell_type": "code",
   "execution_count": null,
   "id": "e9969c2d-98d3-4f92-b997-60ccc239079e",
   "metadata": {},
   "outputs": [],
   "source": [
    "ds=datasets.load_iris()\n",
    "ds"
   ]
  },
  {
   "cell_type": "code",
   "execution_count": null,
   "id": "e1182948-fa97-4412-a85c-883401eb8775",
   "metadata": {},
   "outputs": [],
   "source": [
    "model=SVC()"
   ]
  },
  {
   "cell_type": "code",
   "execution_count": null,
   "id": "8496ef0e-24b5-474b-bfc1-f09c834d047a",
   "metadata": {},
   "outputs": [],
   "source": [
    "model.fit(ds.data,ds.target)\n",
    "print(model)"
   ]
  },
  {
   "cell_type": "code",
   "execution_count": null,
   "id": "0776aa7c-3dcf-4136-91ae-936b77544956",
   "metadata": {},
   "outputs": [],
   "source": [
    "expected=ds.target\n",
    "predicted=model.predict(ds.data)"
   ]
  },
  {
   "cell_type": "code",
   "execution_count": null,
   "id": "d9e07c3b-cfd9-48e5-95cf-35521a648bb4",
   "metadata": {},
   "outputs": [],
   "source": [
    "print(metrics.classification_report(expected,predicted))"
   ]
  },
  {
   "cell_type": "code",
   "execution_count": null,
   "id": "438b25c7-aa3a-4d58-8351-4cdba903d40e",
   "metadata": {},
   "outputs": [],
   "source": []
  }
 ],
 "metadata": {
  "kernelspec": {
   "display_name": "Python 3 (ipykernel)",
   "language": "python",
   "name": "python3"
  },
  "language_info": {
   "codemirror_mode": {
    "name": "ipython",
    "version": 3
   },
   "file_extension": ".py",
   "mimetype": "text/x-python",
   "name": "python",
   "nbconvert_exporter": "python",
   "pygments_lexer": "ipython3",
   "version": "3.12.4"
  }
 },
 "nbformat": 4,
 "nbformat_minor": 5
}
