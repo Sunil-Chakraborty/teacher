{
 "cells": [
  {
   "cell_type": "markdown",
   "metadata": {
    "id": "3pA80-ywS6hR"
   },
   "source": [
    "# **1. Addition**"
   ]
  },
  {
   "cell_type": "code",
   "execution_count": null,
   "metadata": {
    "id": "o-jvZCpITBRx"
   },
   "outputs": [],
   "source": [
    "def add_num(a,b):\n",
    "  return a+b"
   ]
  },
  {
   "cell_type": "markdown",
   "metadata": {
    "id": "0cbNpX_OUxZ_"
   },
   "source": [
    "# **2.Substruction**"
   ]
  },
  {
   "cell_type": "code",
   "execution_count": null,
   "metadata": {
    "id": "3tW4P7eBU0g6"
   },
   "outputs": [],
   "source": [
    "def sub_num(a,b):\n",
    "  return a-b"
   ]
  },
  {
   "cell_type": "markdown",
   "metadata": {
    "id": "gnQeNwxOU5xl"
   },
   "source": [
    "# **3.Multiplication**"
   ]
  },
  {
   "cell_type": "code",
   "execution_count": null,
   "metadata": {
    "id": "1kVzXSqoVDXa"
   },
   "outputs": [],
   "source": [
    "def mul_num(a,b):\n",
    "  return a*b"
   ]
  },
  {
   "cell_type": "markdown",
   "metadata": {
    "id": "jd1bSfJJVIPx"
   },
   "source": [
    "# **4.Divide**"
   ]
  },
  {
   "cell_type": "code",
   "execution_count": null,
   "metadata": {
    "id": "EaI7uve0VNmm"
   },
   "outputs": [],
   "source": [
    "def div_num(a,b):\n",
    "  if b == 0:\n",
    "        return \"Error: Division by zero is undefined.\"\n",
    "\n",
    "  return a/b"
   ]
  },
  {
   "cell_type": "markdown",
   "metadata": {
    "id": "aJtYERzoVj3x"
   },
   "source": [
    "# **Calculator**"
   ]
  },
  {
   "cell_type": "raw",
   "metadata": {
    "id": "hau6sFYAarFV"
   },
   "source": [
    "def calculator():\n",
    "\n",
    "     print(\"Welcome to the Simple Calculator!\")\n",
    "     exit_calculator = False\n",
    "\n",
    "     while not exit_calculator:\n",
    "        print(\"\\nChoose an operation:\")\n",
    "        print(\"1. Addition\")\n",
    "        print(\"2. Subtraction\")\n",
    "        print(\"3. Multiplication\")\n",
    "        print(\"4. Division\")\n",
    "        print(\"5. Exit\")\n",
    "\n",
    "        try:\n",
    "            choice = int(input(\"Enter your choice (1/2/3/4/5): \"))\n",
    "        except ValueError:\n",
    "            print(\"Invalid input. Please enter a number.\")\n",
    "            continue\n",
    "\n",
    "        if choice == 5:\n",
    "            print(\"Exiting the calculator. Goodbye!\")\n",
    "            exit_calculator = True\n",
    "            continue\n",
    "\n",
    "        if choice not in [1, 2, 3, 4]:\n",
    "            print(\"Invalid choice. Please select 1, 2, 3, 4, or 5.\")\n",
    "            continue\n",
    "\n",
    "        try:\n",
    "            num1 = float(input(\"Enter the first number: \"))\n",
    "            num2 = float(input(\"Enter the second number: \"))\n",
    "        except ValueError:\n",
    "            print(\"Invalid input. Please enter numeric values.\")\n",
    "            continue\n",
    "\n",
    "        if choice == 1:\n",
    "            print(f\"The result of addition: {add_num(num1, num2)}\")\n",
    "        elif choice == 2:\n",
    "            print(f\"The result of subtraction: {sub_num(num1, num2)}\")\n",
    "        elif choice == 3:\n",
    "            print(f\"The result of multiplication: {mul_num(num1, num2)}\")\n",
    "        elif choice == 4:\n",
    "            print(f\"The result of division: {div_num(num1, num2)}\")\n"
   ]
  }
 ],
 "metadata": {
  "colab": {
   "provenance": []
  },
  "kernelspec": {
   "display_name": "Python 3 (ipykernel)",
   "language": "python",
   "name": "python3"
  },
  "language_info": {
   "codemirror_mode": {
    "name": "ipython",
    "version": 3
   },
   "file_extension": ".py",
   "mimetype": "text/x-python",
   "name": "python",
   "nbconvert_exporter": "python",
   "pygments_lexer": "ipython3",
   "version": "3.12.4"
  }
 },
 "nbformat": 4,
 "nbformat_minor": 4
}
