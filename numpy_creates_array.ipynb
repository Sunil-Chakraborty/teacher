{
 "cells": [
  {
   "cell_type": "code",
   "execution_count": null,
   "id": "a337ae6f-f03d-4fef-9d15-244f417971d0",
   "metadata": {},
   "outputs": [],
   "source": [
    "#Bring numpy for creating array\n",
    "import numpy as np"
   ]
  },
  {
   "cell_type": "code",
   "execution_count": null,
   "id": "656370d3-d752-4f23-bead-e65d8e8b7a89",
   "metadata": {},
   "outputs": [],
   "source": [
    "x=np.array([1,4,6,6,5,8])\n",
    "x\n"
   ]
  },
  {
   "cell_type": "code",
   "execution_count": null,
   "id": "1747311f-22c0-4ada-a984-9958085365f4",
   "metadata": {},
   "outputs": [],
   "source": [
    "type(x)"
   ]
  },
  {
   "cell_type": "code",
   "execution_count": null,
   "id": "1e990fcc-55af-40e6-8426-5c27d4e7bf15",
   "metadata": {},
   "outputs": [],
   "source": [
    "x.ndim"
   ]
  },
  {
   "cell_type": "code",
   "execution_count": null,
   "id": "b8b9e4ec-466a-46c3-9322-342edd04c433",
   "metadata": {},
   "outputs": [],
   "source": [
    "x.shape"
   ]
  },
  {
   "cell_type": "code",
   "execution_count": null,
   "id": "77a373c4-a73d-4e02-96f3-9edb564c75bf",
   "metadata": {},
   "outputs": [],
   "source": [
    "x.size"
   ]
  },
  {
   "cell_type": "code",
   "execution_count": null,
   "id": "97423916-00bc-4cf2-b174-b059537f5975",
   "metadata": {},
   "outputs": [],
   "source": [
    "x.dtype"
   ]
  },
  {
   "cell_type": "code",
   "execution_count": 14,
   "id": "669abfdb-d646-490e-9eb5-0ce7be6232f9",
   "metadata": {},
   "outputs": [
    {
     "data": {
      "text/plain": [
       "array([1, 4, 6, 6])"
      ]
     },
     "execution_count": 14,
     "metadata": {},
     "output_type": "execute_result"
    }
   ],
   "source": [
    "x[:4]"
   ]
  },
  {
   "cell_type": "code",
   "execution_count": 15,
   "id": "11c65a5b-732e-4d16-ab75-8d5f0c2080ca",
   "metadata": {},
   "outputs": [],
   "source": [
    "np.save('x',x)"
   ]
  },
  {
   "cell_type": "code",
   "execution_count": 16,
   "id": "24beefe7-7270-4f62-a51e-c114407be533",
   "metadata": {},
   "outputs": [
    {
     "data": {
      "text/plain": [
       "array([1, 4, 6, 6, 5, 8])"
      ]
     },
     "execution_count": 16,
     "metadata": {},
     "output_type": "execute_result"
    }
   ],
   "source": [
    "np.load('x.npy')"
   ]
  },
  {
   "cell_type": "code",
   "execution_count": null,
   "id": "5d13510d-2de2-42c4-afa1-dae63119ce2d",
   "metadata": {},
   "outputs": [],
   "source": []
  }
 ],
 "metadata": {
  "kernelspec": {
   "display_name": "Python 3 (ipykernel)",
   "language": "python",
   "name": "python3"
  },
  "language_info": {
   "codemirror_mode": {
    "name": "ipython",
    "version": 3
   },
   "file_extension": ".py",
   "mimetype": "text/x-python",
   "name": "python",
   "nbconvert_exporter": "python",
   "pygments_lexer": "ipython3",
   "version": "3.12.4"
  }
 },
 "nbformat": 4,
 "nbformat_minor": 5
}
