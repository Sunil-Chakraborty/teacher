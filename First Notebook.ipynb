{
 "cells": [
  {
   "cell_type": "markdown",
   "id": "f484a1ed-968f-482d-9359-b4ee96d8eac2",
   "metadata": {},
   "source": [
    "Let's get started"
   ]
  },
  {
   "cell_type": "code",
   "execution_count": null,
   "id": "a421f945-8f76-41a0-bbff-d1d25701e7cc",
   "metadata": {},
   "outputs": [],
   "source": [
    "# lets bring pandas\n",
    "import pandas as pd\n"
   ]
  },
  {
   "cell_type": "code",
   "execution_count": null,
   "id": "395e4326-3458-4636-aec7-0f97673d847e",
   "metadata": {},
   "outputs": [],
   "source": [
    "ufo=pd.read_table(\"iqac_faculty.csv\", sep=\",\")"
   ]
  },
  {
   "cell_type": "code",
   "execution_count": null,
   "id": "43a7f471-ef75-4568-809e-d715419a083f",
   "metadata": {},
   "outputs": [],
   "source": [
    "ufo.head()"
   ]
  },
  {
   "cell_type": "code",
   "execution_count": null,
   "id": "31684c3d-fd5b-4ed5-b46f-4767cf85edfa",
   "metadata": {},
   "outputs": [],
   "source": [
    "ufo['quali']"
   ]
  },
  {
   "cell_type": "code",
   "execution_count": null,
   "id": "4acfb62c-9226-43a6-a688-de0c2ef3116f",
   "metadata": {},
   "outputs": [],
   "source": [
    "ufo.tail(10)"
   ]
  },
  {
   "cell_type": "code",
   "execution_count": null,
   "id": "92cc403a-619f-43d4-8e5c-b1229ad5f187",
   "metadata": {},
   "outputs": [],
   "source": [
    "print(ufo)"
   ]
  },
  {
   "cell_type": "code",
   "execution_count": null,
   "id": "d9f936ca-666a-45c5-bc3f-25682fe04fac",
   "metadata": {},
   "outputs": [],
   "source": [
    "df = pd.read_csv(\"iqac_faculty.csv\", skip_blank_lines=True)"
   ]
  },
  {
   "cell_type": "code",
   "execution_count": null,
   "id": "c5b645f8-f0d8-4a8e-ac56-dbb85586991c",
   "metadata": {},
   "outputs": [],
   "source": [
    "df.tail()"
   ]
  },
  {
   "cell_type": "code",
   "execution_count": null,
   "id": "a8061a59-640f-46e7-8140-ab269c5c0e2a",
   "metadata": {},
   "outputs": [],
   "source": [
    "df = df.dropna(how='all')"
   ]
  },
  {
   "cell_type": "code",
   "execution_count": null,
   "id": "9119c9c1-ad7d-41de-967c-84f7b27c74e8",
   "metadata": {},
   "outputs": [],
   "source": [
    "print(df)"
   ]
  },
  {
   "cell_type": "code",
   "execution_count": null,
   "id": "d2ef59e2-0d18-479e-a106-f555590f2385",
   "metadata": {},
   "outputs": [],
   "source": [
    "df.to_csv(\"iqac_faculty_output.csv\", index=False)"
   ]
  },
  {
   "cell_type": "code",
   "execution_count": null,
   "id": "f20b5785-751f-4019-a11a-7cd8a8dacc57",
   "metadata": {},
   "outputs": [],
   "source": [
    "df.info()"
   ]
  },
  {
   "cell_type": "code",
   "execution_count": null,
   "id": "73b111e2-31ef-4b0c-a999-7ddd5ce9debb",
   "metadata": {},
   "outputs": [],
   "source": [
    "df.describe()"
   ]
  },
  {
   "cell_type": "code",
   "execution_count": null,
   "id": "d6a8302f-18c6-4d3f-8c66-2acaf31c1da6",
   "metadata": {},
   "outputs": [],
   "source": [
    "df.columns\n"
   ]
  },
  {
   "cell_type": "code",
   "execution_count": null,
   "id": "fe4d2cff-4b91-4984-a72a-05314e2d81b4",
   "metadata": {},
   "outputs": [],
   "source": [
    "pd.set_option(\"display.max_rows\", None)  # To view all rows\n",
    "print(df)"
   ]
  },
  {
   "cell_type": "code",
   "execution_count": null,
   "id": "05016201-c883-4d34-ace5-60bf182b4aab",
   "metadata": {},
   "outputs": [],
   "source": [
    "df = df.sort_values(by=\"exp_mm\")\n",
    "print(df)"
   ]
  },
  {
   "cell_type": "code",
   "execution_count": null,
   "id": "a0210c32-d83e-4147-8bd4-a5625f1fe4d7",
   "metadata": {},
   "outputs": [],
   "source": [
    "import pandas as pd\n",
    "\n",
    "# Sample DataFrame\n",
    "data = {\n",
    "    \"Name\": [\"Alice\", \"Bob\", \"Charlie\"],\n",
    "    \"Age\": [25, 30, 35],\n",
    "    \"City\": [\"New York\", \"Los Angeles\", \"Chicago\"]\n",
    "}\n",
    "df = pd.DataFrame(data)\n",
    "\n",
    "# Sort by Age\n",
    "df = df.sort_values(by=\"Age\", ascending=True)\n",
    "\n",
    "# Drop the \"City\" column\n",
    "df = df.drop(columns=[\"City\"])\n",
    "\n",
    "# Insert a new column \"Info\" by concatenating \"Name\" and \"Age\"\n",
    "df[\"Info\"] = df[\"Name\"] + \" (\" + df[\"Age\"].astype(str) + \")\"\n",
    "\n",
    "# Insert the \"Info\" column at position 1\n",
    "df.insert(1, \"Info\", df.pop(\"Info\"))  # Reorder the column to position 1\n",
    "\n",
    "print(df)\n"
   ]
  },
  {
   "cell_type": "code",
   "execution_count": null,
   "id": "199bda00-0e22-4be9-9ca4-53384d08b92a",
   "metadata": {},
   "outputs": [],
   "source": [
    "import pandas as pd\n",
    "\n",
    "# Sample DataFrame\n",
    "data = {\n",
    "    \"Name\": [\"Alice\", \"Bob\", \"Charlie\"],\n",
    "    \"Age\": [25, 30, 35],\n",
    "    \"City\": [\"New York\", \"Los Angeles\", \"Chicago\"]\n",
    "}\n",
    "df = pd.DataFrame(data)\n",
    "\n",
    "# Insert a new column \"Info\" by concatenating \"Name\" and \"Age\"\n",
    "df[\"Info\"] = df[\"Name\"] + \" (\" + df[\"Age\"].astype(str) + \")\"\n",
    "\n",
    "# Example Filters\n",
    "filtered_1 = df[df[\"Age\"] > 25]  # Age > 25\n",
    "filtered_2 = df[(df[\"Age\"] > 25) & (df[\"Name\"].str.startswith(\"C\"))]  # Age > 25 and Name starts with C\n",
    "filtered_3 = df[df[\"Name\"].isin([\"Alice\", \"Bob\"])]  # Name is Alice or Bob\n",
    "\n",
    "print(\"Filtered 1:\\n\", filtered_1)\n",
    "print(\"Filtered 2:\\n\", filtered_2)\n",
    "print(\"Filtered 3:\\n\", filtered_3)\n"
   ]
  }
 ],
 "metadata": {
  "kernelspec": {
   "display_name": "Python 3 (ipykernel)",
   "language": "python",
   "name": "python3"
  },
  "language_info": {
   "codemirror_mode": {
    "name": "ipython",
    "version": 3
   },
   "file_extension": ".py",
   "mimetype": "text/x-python",
   "name": "python",
   "nbconvert_exporter": "python",
   "pygments_lexer": "ipython3",
   "version": "3.12.4"
  }
 },
 "nbformat": 4,
 "nbformat_minor": 5
}
